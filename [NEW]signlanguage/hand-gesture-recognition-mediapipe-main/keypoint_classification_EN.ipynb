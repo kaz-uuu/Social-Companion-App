{
  "cells": [
    {
      "cell_type": "code",
      "execution_count": 1,
      "metadata": {
        "id": "igMyGnjE9hEp"
      },
      "outputs": [],
      "source": [
        "import csv\n",
        "\n",
        "import numpy as np\n",
        "import tensorflow as tf\n",
        "from sklearn.model_selection import train_test_split\n",
        "\n",
        "RANDOM_SEED = 42"
      ]
    },
    {
      "cell_type": "markdown",
      "metadata": {
        "id": "t2HDvhIu9hEr"
      },
      "source": [
        "# Specify each path"
      ]
    },
    {
      "cell_type": "code",
      "execution_count": 2,
      "metadata": {
        "id": "9NvZP2Zn9hEy"
      },
      "outputs": [],
      "source": [
        "dataset = 'model/keypoint_classifier/keypoint.csv'\n",
        "model_save_path = 'model/keypoint_classifier/keypoint_classifier.hdf5'\n",
        "tflite_save_path = 'model/keypoint_classifier/keypoint_classifier.tflite'"
      ]
    },
    {
      "cell_type": "markdown",
      "metadata": {
        "id": "s5oMH7x19hEz"
      },
      "source": [
        "# Set number of classes"
      ]
    },
    {
      "cell_type": "code",
      "execution_count": 3,
      "metadata": {
        "id": "du4kodXL9hEz"
      },
      "outputs": [],
      "source": [
        "NUM_CLASSES = 24"
      ]
    },
    {
      "cell_type": "markdown",
      "metadata": {
        "id": "XjnL0uso9hEz"
      },
      "source": [
        "# Dataset reading"
      ]
    },
    {
      "cell_type": "code",
      "execution_count": 4,
      "metadata": {
        "id": "QT5ZqtEz9hE0"
      },
      "outputs": [],
      "source": [
        "X_dataset = np.loadtxt(dataset, delimiter=',', dtype='float32', usecols=list(range(1, (21 * 2) + 1)))"
      ]
    },
    {
      "cell_type": "code",
      "execution_count": 5,
      "metadata": {
        "id": "QmoKFsp49hE0"
      },
      "outputs": [],
      "source": [
        "y_dataset = np.loadtxt(dataset, delimiter=',', dtype='int32', usecols=(0))"
      ]
    },
    {
      "cell_type": "code",
      "execution_count": 6,
      "metadata": {
        "id": "xQU7JTZ_9hE0"
      },
      "outputs": [],
      "source": [
        "X_train, X_test, y_train, y_test = train_test_split(X_dataset, y_dataset, train_size=0.75, random_state=RANDOM_SEED)"
      ]
    },
    {
      "cell_type": "markdown",
      "metadata": {
        "id": "mxK_lETT9hE0"
      },
      "source": [
        "# Model building"
      ]
    },
    {
      "cell_type": "code",
      "execution_count": 7,
      "metadata": {
        "id": "vHBmUf1t9hE1"
      },
      "outputs": [
        {
          "name": "stderr",
          "output_type": "stream",
          "text": [
            "2022-09-21 21:35:56.721352: I tensorflow/core/platform/cpu_feature_guard.cc:193] This TensorFlow binary is optimized with oneAPI Deep Neural Network Library (oneDNN) to use the following CPU instructions in performance-critical operations:  AVX2 FMA\n",
            "To enable them in other operations, rebuild TensorFlow with the appropriate compiler flags.\n"
          ]
        }
      ],
      "source": [
        "model = tf.keras.models.Sequential([\n",
        "    tf.keras.layers.Input((21 * 2, )),\n",
        "    tf.keras.layers.Dropout(0.2),\n",
        "    tf.keras.layers.Dense(20, activation='relu'),\n",
        "    tf.keras.layers.Dropout(0.4),\n",
        "    tf.keras.layers.Dense(10, activation='relu'),\n",
        "    tf.keras.layers.Dense(NUM_CLASSES, activation='softmax')\n",
        "])"
      ]
    },
    {
      "cell_type": "code",
      "execution_count": 8,
      "metadata": {
        "colab": {
          "base_uri": "https://localhost:8080/"
        },
        "id": "ypqky9tc9hE1",
        "outputId": "5db082bb-30e3-4110-bf63-a1ee777ecd46"
      },
      "outputs": [
        {
          "name": "stdout",
          "output_type": "stream",
          "text": [
            "Model: \"sequential\"\n",
            "_________________________________________________________________\n",
            " Layer (type)                Output Shape              Param #   \n",
            "=================================================================\n",
            " dropout (Dropout)           (None, 42)                0         \n",
            "                                                                 \n",
            " dense (Dense)               (None, 20)                860       \n",
            "                                                                 \n",
            " dropout_1 (Dropout)         (None, 20)                0         \n",
            "                                                                 \n",
            " dense_1 (Dense)             (None, 10)                210       \n",
            "                                                                 \n",
            " dense_2 (Dense)             (None, 24)                264       \n",
            "                                                                 \n",
            "=================================================================\n",
            "Total params: 1,334\n",
            "Trainable params: 1,334\n",
            "Non-trainable params: 0\n",
            "_________________________________________________________________\n"
          ]
        }
      ],
      "source": [
        "model.summary()  # tf.keras.utils.plot_model(model, show_shapes=True)"
      ]
    },
    {
      "cell_type": "code",
      "execution_count": 9,
      "metadata": {
        "id": "MbMjOflQ9hE1"
      },
      "outputs": [],
      "source": [
        "# Model checkpoint callback\n",
        "cp_callback = tf.keras.callbacks.ModelCheckpoint(\n",
        "    model_save_path, verbose=1, save_weights_only=False)\n",
        "# Callback for early stopping\n",
        "es_callback = tf.keras.callbacks.EarlyStopping(patience=20, verbose=1)"
      ]
    },
    {
      "cell_type": "code",
      "execution_count": 10,
      "metadata": {
        "id": "c3Dac0M_9hE2"
      },
      "outputs": [],
      "source": [
        "# Model compilation\n",
        "model.compile(\n",
        "    optimizer='adam',\n",
        "    loss='sparse_categorical_crossentropy',\n",
        "    metrics=['accuracy']\n",
        ")"
      ]
    },
    {
      "cell_type": "markdown",
      "metadata": {
        "id": "7XI0j1Iu9hE2"
      },
      "source": [
        "# Model training"
      ]
    },
    {
      "cell_type": "code",
      "execution_count": 11,
      "metadata": {
        "colab": {
          "base_uri": "https://localhost:8080/"
        },
        "id": "WirBl-JE9hE3",
        "outputId": "71b30ca2-8294-4d9d-8aa2-800d90d399de",
        "scrolled": true
      },
      "outputs": [
        {
          "name": "stdout",
          "output_type": "stream",
          "text": [
            "Epoch 1/1000\n",
            "63/65 [============================>.] - ETA: 0s - loss: 3.1786 - accuracy: 0.0722\n",
            "Epoch 1: saving model to model/keypoint_classifier/keypoint_classifier.hdf5\n",
            "65/65 [==============================] - 1s 11ms/step - loss: 3.1778 - accuracy: 0.0723 - val_loss: 3.1193 - val_accuracy: 0.0976\n",
            "Epoch 2/1000\n",
            "56/65 [========================>.....] - ETA: 0s - loss: 3.1036 - accuracy: 0.1039\n",
            "Epoch 2: saving model to model/keypoint_classifier/keypoint_classifier.hdf5\n",
            "65/65 [==============================] - 0s 4ms/step - loss: 3.0957 - accuracy: 0.1035 - val_loss: 3.0122 - val_accuracy: 0.1161\n",
            "Epoch 3/1000\n",
            "62/65 [===========================>..] - ETA: 0s - loss: 2.9912 - accuracy: 0.1104\n",
            "Epoch 3: saving model to model/keypoint_classifier/keypoint_classifier.hdf5\n",
            "65/65 [==============================] - 0s 5ms/step - loss: 2.9864 - accuracy: 0.1117 - val_loss: 2.8383 - val_accuracy: 0.1618\n",
            "Epoch 4/1000\n",
            "59/65 [==========================>...] - ETA: 0s - loss: 2.8457 - accuracy: 0.1304\n",
            "Epoch 4: saving model to model/keypoint_classifier/keypoint_classifier.hdf5\n",
            "65/65 [==============================] - 0s 5ms/step - loss: 2.8408 - accuracy: 0.1314 - val_loss: 2.6251 - val_accuracy: 0.2184\n",
            "Epoch 5/1000\n",
            "59/65 [==========================>...] - ETA: 0s - loss: 2.7015 - accuracy: 0.1597\n",
            "Epoch 5: saving model to model/keypoint_classifier/keypoint_classifier.hdf5\n",
            "65/65 [==============================] - 0s 3ms/step - loss: 2.6948 - accuracy: 0.1606 - val_loss: 2.4340 - val_accuracy: 0.2898\n",
            "Epoch 6/1000\n",
            "61/65 [===========================>..] - ETA: 0s - loss: 2.5912 - accuracy: 0.1719\n",
            "Epoch 6: saving model to model/keypoint_classifier/keypoint_classifier.hdf5\n",
            "65/65 [==============================] - 0s 3ms/step - loss: 2.5908 - accuracy: 0.1726 - val_loss: 2.2999 - val_accuracy: 0.3105\n",
            "Epoch 7/1000\n",
            "55/65 [========================>.....] - ETA: 0s - loss: 2.4915 - accuracy: 0.1911\n",
            "Epoch 7: saving model to model/keypoint_classifier/keypoint_classifier.hdf5\n",
            "65/65 [==============================] - 1s 10ms/step - loss: 2.4841 - accuracy: 0.1930 - val_loss: 2.1822 - val_accuracy: 0.3326\n",
            "Epoch 8/1000\n",
            "47/65 [====================>.........] - ETA: 0s - loss: 2.4372 - accuracy: 0.2025\n",
            "Epoch 8: saving model to model/keypoint_classifier/keypoint_classifier.hdf5\n",
            "65/65 [==============================] - 0s 5ms/step - loss: 2.4343 - accuracy: 0.2040 - val_loss: 2.1119 - val_accuracy: 0.3453\n",
            "Epoch 9/1000\n",
            "42/65 [==================>...........] - ETA: 0s - loss: 2.3694 - accuracy: 0.2195\n",
            "Epoch 9: saving model to model/keypoint_classifier/keypoint_classifier.hdf5\n",
            "65/65 [==============================] - 0s 4ms/step - loss: 2.3713 - accuracy: 0.2175 - val_loss: 2.0430 - val_accuracy: 0.3446\n",
            "Epoch 10/1000\n",
            "51/65 [======================>.......] - ETA: 0s - loss: 2.3418 - accuracy: 0.2220\n",
            "Epoch 10: saving model to model/keypoint_classifier/keypoint_classifier.hdf5\n",
            "65/65 [==============================] - 0s 4ms/step - loss: 2.3436 - accuracy: 0.2193 - val_loss: 2.0031 - val_accuracy: 0.3522\n",
            "Epoch 11/1000\n",
            "48/65 [=====================>........] - ETA: 0s - loss: 2.3045 - accuracy: 0.2288\n",
            "Epoch 11: saving model to model/keypoint_classifier/keypoint_classifier.hdf5\n",
            "65/65 [==============================] - 0s 3ms/step - loss: 2.3014 - accuracy: 0.2339 - val_loss: 1.9636 - val_accuracy: 0.3609\n",
            "Epoch 12/1000\n",
            "34/65 [==============>...............] - ETA: 0s - loss: 2.2941 - accuracy: 0.2360\n",
            "Epoch 12: saving model to model/keypoint_classifier/keypoint_classifier.hdf5\n",
            "65/65 [==============================] - 0s 2ms/step - loss: 2.2790 - accuracy: 0.2399 - val_loss: 1.9298 - val_accuracy: 0.3642\n",
            "Epoch 13/1000\n",
            "35/65 [===============>..............] - ETA: 0s - loss: 2.2530 - accuracy: 0.2438\n",
            "Epoch 13: saving model to model/keypoint_classifier/keypoint_classifier.hdf5\n",
            "65/65 [==============================] - 0s 2ms/step - loss: 2.2460 - accuracy: 0.2438 - val_loss: 1.9006 - val_accuracy: 0.3707\n",
            "Epoch 14/1000\n",
            "55/65 [========================>.....] - ETA: 0s - loss: 2.2401 - accuracy: 0.2513\n",
            "Epoch 14: saving model to model/keypoint_classifier/keypoint_classifier.hdf5\n",
            "65/65 [==============================] - 0s 3ms/step - loss: 2.2440 - accuracy: 0.2476 - val_loss: 1.8853 - val_accuracy: 0.3627\n",
            "Epoch 15/1000\n",
            "55/65 [========================>.....] - ETA: 0s - loss: 2.2038 - accuracy: 0.2577\n",
            "Epoch 15: saving model to model/keypoint_classifier/keypoint_classifier.hdf5\n",
            "65/65 [==============================] - 0s 3ms/step - loss: 2.2073 - accuracy: 0.2565 - val_loss: 1.8551 - val_accuracy: 0.3692\n",
            "Epoch 16/1000\n",
            "33/65 [==============>...............] - ETA: 0s - loss: 2.1791 - accuracy: 0.2673\n",
            "Epoch 16: saving model to model/keypoint_classifier/keypoint_classifier.hdf5\n",
            "65/65 [==============================] - 0s 2ms/step - loss: 2.1897 - accuracy: 0.2612 - val_loss: 1.8327 - val_accuracy: 0.3776\n",
            "Epoch 17/1000\n",
            "62/65 [===========================>..] - ETA: 0s - loss: 2.1852 - accuracy: 0.2602\n",
            "Epoch 17: saving model to model/keypoint_classifier/keypoint_classifier.hdf5\n",
            "65/65 [==============================] - 0s 2ms/step - loss: 2.1816 - accuracy: 0.2606 - val_loss: 1.8181 - val_accuracy: 0.3961\n",
            "Epoch 18/1000\n",
            "35/65 [===============>..............] - ETA: 0s - loss: 2.1920 - accuracy: 0.2643\n",
            "Epoch 18: saving model to model/keypoint_classifier/keypoint_classifier.hdf5\n",
            "65/65 [==============================] - 0s 2ms/step - loss: 2.1608 - accuracy: 0.2740 - val_loss: 1.7915 - val_accuracy: 0.3823\n",
            "Epoch 19/1000\n",
            "38/65 [================>.............] - ETA: 0s - loss: 2.1584 - accuracy: 0.2780\n",
            "Epoch 19: saving model to model/keypoint_classifier/keypoint_classifier.hdf5\n",
            "65/65 [==============================] - 0s 2ms/step - loss: 2.1478 - accuracy: 0.2852 - val_loss: 1.7760 - val_accuracy: 0.3997\n",
            "Epoch 20/1000\n",
            "59/65 [==========================>...] - ETA: 0s - loss: 2.1216 - accuracy: 0.2854\n",
            "Epoch 20: saving model to model/keypoint_classifier/keypoint_classifier.hdf5\n",
            "65/65 [==============================] - 0s 3ms/step - loss: 2.1229 - accuracy: 0.2845 - val_loss: 1.7485 - val_accuracy: 0.4120\n",
            "Epoch 21/1000\n",
            "54/65 [=======================>......] - ETA: 0s - loss: 2.1238 - accuracy: 0.2815\n",
            "Epoch 21: saving model to model/keypoint_classifier/keypoint_classifier.hdf5\n",
            "65/65 [==============================] - 0s 3ms/step - loss: 2.1246 - accuracy: 0.2831 - val_loss: 1.7330 - val_accuracy: 0.4207\n",
            "Epoch 22/1000\n",
            "56/65 [========================>.....] - ETA: 0s - loss: 2.1086 - accuracy: 0.2977\n",
            "Epoch 22: saving model to model/keypoint_classifier/keypoint_classifier.hdf5\n",
            "65/65 [==============================] - 0s 3ms/step - loss: 2.1131 - accuracy: 0.2948 - val_loss: 1.7270 - val_accuracy: 0.4313\n",
            "Epoch 23/1000\n",
            "58/65 [=========================>....] - ETA: 0s - loss: 2.0893 - accuracy: 0.2905\n",
            "Epoch 23: saving model to model/keypoint_classifier/keypoint_classifier.hdf5\n",
            "65/65 [==============================] - 0s 3ms/step - loss: 2.0887 - accuracy: 0.2929 - val_loss: 1.7080 - val_accuracy: 0.4407\n",
            "Epoch 24/1000\n",
            "63/65 [============================>.] - ETA: 0s - loss: 2.0853 - accuracy: 0.2948\n",
            "Epoch 24: saving model to model/keypoint_classifier/keypoint_classifier.hdf5\n",
            "65/65 [==============================] - 0s 2ms/step - loss: 2.0847 - accuracy: 0.2953 - val_loss: 1.6911 - val_accuracy: 0.4356\n",
            "Epoch 25/1000\n",
            "37/65 [================>.............] - ETA: 0s - loss: 2.0799 - accuracy: 0.3043\n",
            "Epoch 25: saving model to model/keypoint_classifier/keypoint_classifier.hdf5\n",
            "65/65 [==============================] - 0s 2ms/step - loss: 2.0669 - accuracy: 0.3083 - val_loss: 1.6592 - val_accuracy: 0.4918\n",
            "Epoch 26/1000\n",
            "52/65 [=======================>......] - ETA: 0s - loss: 2.0611 - accuracy: 0.3090\n",
            "Epoch 26: saving model to model/keypoint_classifier/keypoint_classifier.hdf5\n",
            "65/65 [==============================] - 0s 3ms/step - loss: 2.0535 - accuracy: 0.3082 - val_loss: 1.6523 - val_accuracy: 0.4878\n",
            "Epoch 27/1000\n",
            "26/65 [===========>..................] - ETA: 0s - loss: 2.0397 - accuracy: 0.3158\n",
            "Epoch 27: saving model to model/keypoint_classifier/keypoint_classifier.hdf5\n",
            "65/65 [==============================] - 0s 3ms/step - loss: 2.0491 - accuracy: 0.3080 - val_loss: 1.6458 - val_accuracy: 0.4889\n",
            "Epoch 28/1000\n",
            "35/65 [===============>..............] - ETA: 0s - loss: 2.0110 - accuracy: 0.3174\n",
            "Epoch 28: saving model to model/keypoint_classifier/keypoint_classifier.hdf5\n",
            "65/65 [==============================] - 0s 2ms/step - loss: 2.0222 - accuracy: 0.3160 - val_loss: 1.6261 - val_accuracy: 0.4828\n",
            "Epoch 29/1000\n",
            "58/65 [=========================>....] - ETA: 0s - loss: 2.0199 - accuracy: 0.3191\n",
            "Epoch 29: saving model to model/keypoint_classifier/keypoint_classifier.hdf5\n",
            "65/65 [==============================] - 0s 2ms/step - loss: 2.0205 - accuracy: 0.3195 - val_loss: 1.5993 - val_accuracy: 0.5125\n",
            "Epoch 30/1000\n",
            "36/65 [===============>..............] - ETA: 0s - loss: 1.9982 - accuracy: 0.3164\n",
            "Epoch 30: saving model to model/keypoint_classifier/keypoint_classifier.hdf5\n",
            "65/65 [==============================] - 0s 2ms/step - loss: 1.9906 - accuracy: 0.3197 - val_loss: 1.5789 - val_accuracy: 0.5024\n",
            "Epoch 31/1000\n",
            "38/65 [================>.............] - ETA: 0s - loss: 1.9741 - accuracy: 0.3273\n",
            "Epoch 31: saving model to model/keypoint_classifier/keypoint_classifier.hdf5\n",
            "65/65 [==============================] - 0s 2ms/step - loss: 1.9784 - accuracy: 0.3252 - val_loss: 1.5634 - val_accuracy: 0.4969\n",
            "Epoch 32/1000\n",
            "54/65 [=======================>......] - ETA: 0s - loss: 1.9956 - accuracy: 0.3245\n",
            "Epoch 32: saving model to model/keypoint_classifier/keypoint_classifier.hdf5\n",
            "65/65 [==============================] - 0s 3ms/step - loss: 1.9995 - accuracy: 0.3230 - val_loss: 1.5637 - val_accuracy: 0.5089\n",
            "Epoch 33/1000\n",
            "35/65 [===============>..............] - ETA: 0s - loss: 1.9751 - accuracy: 0.3223\n",
            "Epoch 33: saving model to model/keypoint_classifier/keypoint_classifier.hdf5\n",
            "65/65 [==============================] - 0s 2ms/step - loss: 1.9690 - accuracy: 0.3249 - val_loss: 1.5375 - val_accuracy: 0.5256\n",
            "Epoch 34/1000\n",
            "52/65 [=======================>......] - ETA: 0s - loss: 1.9567 - accuracy: 0.3239\n",
            "Epoch 34: saving model to model/keypoint_classifier/keypoint_classifier.hdf5\n",
            "65/65 [==============================] - 0s 3ms/step - loss: 1.9568 - accuracy: 0.3236 - val_loss: 1.5139 - val_accuracy: 0.5092\n",
            "Epoch 35/1000\n",
            "38/65 [================>.............] - ETA: 0s - loss: 1.9344 - accuracy: 0.3370\n",
            "Epoch 35: saving model to model/keypoint_classifier/keypoint_classifier.hdf5\n",
            "65/65 [==============================] - 0s 2ms/step - loss: 1.9420 - accuracy: 0.3351 - val_loss: 1.5067 - val_accuracy: 0.5234\n",
            "Epoch 36/1000\n",
            "26/65 [===========>..................] - ETA: 0s - loss: 1.9337 - accuracy: 0.3353\n",
            "Epoch 36: saving model to model/keypoint_classifier/keypoint_classifier.hdf5\n",
            "65/65 [==============================] - 0s 2ms/step - loss: 1.9479 - accuracy: 0.3375 - val_loss: 1.4954 - val_accuracy: 0.5172\n",
            "Epoch 37/1000\n",
            "36/65 [===============>..............] - ETA: 0s - loss: 1.9611 - accuracy: 0.3322\n",
            "Epoch 37: saving model to model/keypoint_classifier/keypoint_classifier.hdf5\n",
            "65/65 [==============================] - 0s 2ms/step - loss: 1.9266 - accuracy: 0.3357 - val_loss: 1.4889 - val_accuracy: 0.5372\n",
            "Epoch 38/1000\n",
            "41/65 [=================>............] - ETA: 0s - loss: 1.9101 - accuracy: 0.3394\n",
            "Epoch 38: saving model to model/keypoint_classifier/keypoint_classifier.hdf5\n",
            "65/65 [==============================] - 0s 2ms/step - loss: 1.9130 - accuracy: 0.3451 - val_loss: 1.4706 - val_accuracy: 0.5245\n",
            "Epoch 39/1000\n",
            "64/65 [============================>.] - ETA: 0s - loss: 1.9185 - accuracy: 0.3384\n",
            "Epoch 39: saving model to model/keypoint_classifier/keypoint_classifier.hdf5\n",
            "65/65 [==============================] - 0s 3ms/step - loss: 1.9168 - accuracy: 0.3389 - val_loss: 1.4835 - val_accuracy: 0.5589\n",
            "Epoch 40/1000\n",
            "28/65 [===========>..................] - ETA: 0s - loss: 1.8792 - accuracy: 0.3513\n",
            "Epoch 40: saving model to model/keypoint_classifier/keypoint_classifier.hdf5\n",
            "65/65 [==============================] - 0s 3ms/step - loss: 1.8981 - accuracy: 0.3432 - val_loss: 1.4552 - val_accuracy: 0.5814\n",
            "Epoch 41/1000\n",
            "37/65 [================>.............] - ETA: 0s - loss: 1.8711 - accuracy: 0.3535\n",
            "Epoch 41: saving model to model/keypoint_classifier/keypoint_classifier.hdf5\n",
            "65/65 [==============================] - 0s 2ms/step - loss: 1.8821 - accuracy: 0.3472 - val_loss: 1.4421 - val_accuracy: 0.5640\n",
            "Epoch 42/1000\n",
            "63/65 [============================>.] - ETA: 0s - loss: 1.8908 - accuracy: 0.3533\n",
            "Epoch 42: saving model to model/keypoint_classifier/keypoint_classifier.hdf5\n",
            "65/65 [==============================] - 0s 2ms/step - loss: 1.8888 - accuracy: 0.3538 - val_loss: 1.4254 - val_accuracy: 0.5843\n",
            "Epoch 43/1000\n",
            "37/65 [================>.............] - ETA: 0s - loss: 1.8992 - accuracy: 0.3505\n",
            "Epoch 43: saving model to model/keypoint_classifier/keypoint_classifier.hdf5\n",
            "65/65 [==============================] - 0s 2ms/step - loss: 1.8912 - accuracy: 0.3532 - val_loss: 1.4204 - val_accuracy: 0.5437\n",
            "Epoch 44/1000\n",
            "60/65 [==========================>...] - ETA: 0s - loss: 1.8708 - accuracy: 0.3533\n",
            "Epoch 44: saving model to model/keypoint_classifier/keypoint_classifier.hdf5\n",
            "65/65 [==============================] - 0s 2ms/step - loss: 1.8684 - accuracy: 0.3554 - val_loss: 1.4213 - val_accuracy: 0.5829\n",
            "Epoch 45/1000\n",
            "36/65 [===============>..............] - ETA: 0s - loss: 1.8811 - accuracy: 0.3574\n",
            "Epoch 45: saving model to model/keypoint_classifier/keypoint_classifier.hdf5\n",
            "65/65 [==============================] - 0s 2ms/step - loss: 1.8810 - accuracy: 0.3588 - val_loss: 1.4016 - val_accuracy: 0.5854\n",
            "Epoch 46/1000\n",
            "35/65 [===============>..............] - ETA: 0s - loss: 1.8863 - accuracy: 0.3496\n",
            "Epoch 46: saving model to model/keypoint_classifier/keypoint_classifier.hdf5\n",
            "65/65 [==============================] - 0s 2ms/step - loss: 1.8754 - accuracy: 0.3521 - val_loss: 1.3925 - val_accuracy: 0.6159\n",
            "Epoch 47/1000\n",
            "63/65 [============================>.] - ETA: 0s - loss: 1.8461 - accuracy: 0.3653\n",
            "Epoch 47: saving model to model/keypoint_classifier/keypoint_classifier.hdf5\n",
            "65/65 [==============================] - 0s 2ms/step - loss: 1.8459 - accuracy: 0.3652 - val_loss: 1.3926 - val_accuracy: 0.6072\n",
            "Epoch 48/1000\n",
            "36/65 [===============>..............] - ETA: 0s - loss: 1.8458 - accuracy: 0.3674\n",
            "Epoch 48: saving model to model/keypoint_classifier/keypoint_classifier.hdf5\n",
            "65/65 [==============================] - 0s 2ms/step - loss: 1.8560 - accuracy: 0.3638 - val_loss: 1.3819 - val_accuracy: 0.6054\n",
            "Epoch 49/1000\n",
            "65/65 [==============================] - ETA: 0s - loss: 1.8269 - accuracy: 0.3750\n",
            "Epoch 49: saving model to model/keypoint_classifier/keypoint_classifier.hdf5\n",
            "65/65 [==============================] - 0s 3ms/step - loss: 1.8269 - accuracy: 0.3750 - val_loss: 1.3717 - val_accuracy: 0.6046\n",
            "Epoch 50/1000\n",
            "53/65 [=======================>......] - ETA: 0s - loss: 1.8381 - accuracy: 0.3691\n",
            "Epoch 50: saving model to model/keypoint_classifier/keypoint_classifier.hdf5\n",
            "65/65 [==============================] - 0s 3ms/step - loss: 1.8452 - accuracy: 0.3681 - val_loss: 1.3714 - val_accuracy: 0.6344\n",
            "Epoch 51/1000\n",
            "39/65 [=================>............] - ETA: 0s - loss: 1.8469 - accuracy: 0.3674\n",
            "Epoch 51: saving model to model/keypoint_classifier/keypoint_classifier.hdf5\n",
            "65/65 [==============================] - 0s 2ms/step - loss: 1.8341 - accuracy: 0.3729 - val_loss: 1.3611 - val_accuracy: 0.6065\n",
            "Epoch 52/1000\n",
            "58/65 [=========================>....] - ETA: 0s - loss: 1.8291 - accuracy: 0.3669\n",
            "Epoch 52: saving model to model/keypoint_classifier/keypoint_classifier.hdf5\n",
            "65/65 [==============================] - 0s 2ms/step - loss: 1.8258 - accuracy: 0.3696 - val_loss: 1.3542 - val_accuracy: 0.6137\n",
            "Epoch 53/1000\n",
            "53/65 [=======================>......] - ETA: 0s - loss: 1.8188 - accuracy: 0.3622\n",
            "Epoch 53: saving model to model/keypoint_classifier/keypoint_classifier.hdf5\n",
            "65/65 [==============================] - 0s 3ms/step - loss: 1.8325 - accuracy: 0.3606 - val_loss: 1.3561 - val_accuracy: 0.5916\n",
            "Epoch 54/1000\n",
            "37/65 [================>.............] - ETA: 0s - loss: 1.8300 - accuracy: 0.3619\n",
            "Epoch 54: saving model to model/keypoint_classifier/keypoint_classifier.hdf5\n",
            "65/65 [==============================] - 0s 2ms/step - loss: 1.8178 - accuracy: 0.3704 - val_loss: 1.3531 - val_accuracy: 0.6119\n",
            "Epoch 55/1000\n",
            "65/65 [==============================] - ETA: 0s - loss: 1.8257 - accuracy: 0.3781\n",
            "Epoch 55: saving model to model/keypoint_classifier/keypoint_classifier.hdf5\n",
            "65/65 [==============================] - 0s 2ms/step - loss: 1.8257 - accuracy: 0.3781 - val_loss: 1.3406 - val_accuracy: 0.6202\n",
            "Epoch 56/1000\n",
            "63/65 [============================>.] - ETA: 0s - loss: 1.8174 - accuracy: 0.3770\n",
            "Epoch 56: saving model to model/keypoint_classifier/keypoint_classifier.hdf5\n",
            "65/65 [==============================] - 0s 2ms/step - loss: 1.8211 - accuracy: 0.3761 - val_loss: 1.3377 - val_accuracy: 0.6177\n",
            "Epoch 57/1000\n",
            "37/65 [================>.............] - ETA: 0s - loss: 1.8140 - accuracy: 0.3701\n",
            "Epoch 57: saving model to model/keypoint_classifier/keypoint_classifier.hdf5\n",
            "65/65 [==============================] - 0s 2ms/step - loss: 1.8053 - accuracy: 0.3803 - val_loss: 1.3299 - val_accuracy: 0.5996\n",
            "Epoch 58/1000\n",
            "50/65 [======================>.......] - ETA: 0s - loss: 1.8180 - accuracy: 0.3727\n",
            "Epoch 58: saving model to model/keypoint_classifier/keypoint_classifier.hdf5\n",
            "65/65 [==============================] - 0s 3ms/step - loss: 1.8161 - accuracy: 0.3744 - val_loss: 1.3313 - val_accuracy: 0.5945\n",
            "Epoch 59/1000\n",
            "35/65 [===============>..............] - ETA: 0s - loss: 1.8071 - accuracy: 0.3721\n",
            "Epoch 59: saving model to model/keypoint_classifier/keypoint_classifier.hdf5\n",
            "65/65 [==============================] - 0s 2ms/step - loss: 1.8007 - accuracy: 0.3763 - val_loss: 1.3268 - val_accuracy: 0.5887\n",
            "Epoch 60/1000\n",
            "37/65 [================>.............] - ETA: 0s - loss: 1.7892 - accuracy: 0.3919\n",
            "Epoch 60: saving model to model/keypoint_classifier/keypoint_classifier.hdf5\n",
            "65/65 [==============================] - 0s 2ms/step - loss: 1.7824 - accuracy: 0.3865 - val_loss: 1.3138 - val_accuracy: 0.6173\n",
            "Epoch 61/1000\n",
            "56/65 [========================>.....] - ETA: 0s - loss: 1.7876 - accuracy: 0.3860\n",
            "Epoch 61: saving model to model/keypoint_classifier/keypoint_classifier.hdf5\n",
            "65/65 [==============================] - 0s 3ms/step - loss: 1.7927 - accuracy: 0.3854 - val_loss: 1.3090 - val_accuracy: 0.5930\n",
            "Epoch 62/1000\n",
            "38/65 [================>.............] - ETA: 0s - loss: 1.7780 - accuracy: 0.3818\n",
            "Epoch 62: saving model to model/keypoint_classifier/keypoint_classifier.hdf5\n",
            "65/65 [==============================] - 0s 2ms/step - loss: 1.7819 - accuracy: 0.3822 - val_loss: 1.3060 - val_accuracy: 0.5927\n",
            "Epoch 63/1000\n",
            "23/65 [=========>....................] - ETA: 0s - loss: 1.7763 - accuracy: 0.3821\n",
            "Epoch 63: saving model to model/keypoint_classifier/keypoint_classifier.hdf5\n",
            "65/65 [==============================] - 0s 2ms/step - loss: 1.7977 - accuracy: 0.3816 - val_loss: 1.3176 - val_accuracy: 0.6162\n",
            "Epoch 64/1000\n",
            "37/65 [================>.............] - ETA: 0s - loss: 1.7658 - accuracy: 0.3946\n",
            "Epoch 64: saving model to model/keypoint_classifier/keypoint_classifier.hdf5\n",
            "65/65 [==============================] - 0s 3ms/step - loss: 1.7786 - accuracy: 0.3895 - val_loss: 1.2988 - val_accuracy: 0.5938\n",
            "Epoch 65/1000\n",
            "64/65 [============================>.] - ETA: 0s - loss: 1.7811 - accuracy: 0.3789\n",
            "Epoch 65: saving model to model/keypoint_classifier/keypoint_classifier.hdf5\n",
            "65/65 [==============================] - 0s 4ms/step - loss: 1.7802 - accuracy: 0.3791 - val_loss: 1.3020 - val_accuracy: 0.5807\n",
            "Epoch 66/1000\n",
            "40/65 [=================>............] - ETA: 0s - loss: 1.7462 - accuracy: 0.3992\n",
            "Epoch 66: saving model to model/keypoint_classifier/keypoint_classifier.hdf5\n",
            "65/65 [==============================] - 0s 2ms/step - loss: 1.7638 - accuracy: 0.3953 - val_loss: 1.3008 - val_accuracy: 0.5901\n",
            "Epoch 67/1000\n",
            "54/65 [=======================>......] - ETA: 0s - loss: 1.7901 - accuracy: 0.3811\n",
            "Epoch 67: saving model to model/keypoint_classifier/keypoint_classifier.hdf5\n",
            "65/65 [==============================] - 0s 3ms/step - loss: 1.7853 - accuracy: 0.3828 - val_loss: 1.3104 - val_accuracy: 0.5880\n",
            "Epoch 68/1000\n",
            "39/65 [=================>............] - ETA: 0s - loss: 1.7978 - accuracy: 0.3822\n",
            "Epoch 68: saving model to model/keypoint_classifier/keypoint_classifier.hdf5\n",
            "65/65 [==============================] - 0s 2ms/step - loss: 1.7797 - accuracy: 0.3875 - val_loss: 1.2913 - val_accuracy: 0.5785\n",
            "Epoch 69/1000\n",
            "35/65 [===============>..............] - ETA: 0s - loss: 1.7522 - accuracy: 0.3879\n",
            "Epoch 69: saving model to model/keypoint_classifier/keypoint_classifier.hdf5\n",
            "65/65 [==============================] - 0s 2ms/step - loss: 1.7627 - accuracy: 0.3846 - val_loss: 1.3005 - val_accuracy: 0.5952\n",
            "Epoch 70/1000\n",
            "50/65 [======================>.......] - ETA: 0s - loss: 1.7424 - accuracy: 0.4038\n",
            "Epoch 70: saving model to model/keypoint_classifier/keypoint_classifier.hdf5\n",
            "65/65 [==============================] - 0s 3ms/step - loss: 1.7448 - accuracy: 0.3998 - val_loss: 1.2822 - val_accuracy: 0.6039\n",
            "Epoch 71/1000\n",
            "36/65 [===============>..............] - ETA: 0s - loss: 1.7652 - accuracy: 0.3763\n",
            "Epoch 71: saving model to model/keypoint_classifier/keypoint_classifier.hdf5\n",
            "65/65 [==============================] - 0s 3ms/step - loss: 1.7578 - accuracy: 0.3846 - val_loss: 1.2781 - val_accuracy: 0.5890\n",
            "Epoch 72/1000\n",
            "32/65 [=============>................] - ETA: 0s - loss: 1.7188 - accuracy: 0.4023\n",
            "Epoch 72: saving model to model/keypoint_classifier/keypoint_classifier.hdf5\n",
            "65/65 [==============================] - 0s 2ms/step - loss: 1.7265 - accuracy: 0.4005 - val_loss: 1.2718 - val_accuracy: 0.5945\n",
            "Epoch 73/1000\n",
            "56/65 [========================>.....] - ETA: 0s - loss: 1.7661 - accuracy: 0.3959\n",
            "Epoch 73: saving model to model/keypoint_classifier/keypoint_classifier.hdf5\n",
            "65/65 [==============================] - 0s 3ms/step - loss: 1.7637 - accuracy: 0.3976 - val_loss: 1.2671 - val_accuracy: 0.6195\n",
            "Epoch 74/1000\n",
            "35/65 [===============>..............] - ETA: 0s - loss: 1.7642 - accuracy: 0.3958\n",
            "Epoch 74: saving model to model/keypoint_classifier/keypoint_classifier.hdf5\n",
            "65/65 [==============================] - 0s 2ms/step - loss: 1.7487 - accuracy: 0.3944 - val_loss: 1.2781 - val_accuracy: 0.5988\n",
            "Epoch 75/1000\n",
            "38/65 [================>.............] - ETA: 0s - loss: 1.7368 - accuracy: 0.4060\n",
            "Epoch 75: saving model to model/keypoint_classifier/keypoint_classifier.hdf5\n",
            "65/65 [==============================] - 0s 2ms/step - loss: 1.7372 - accuracy: 0.4001 - val_loss: 1.2688 - val_accuracy: 0.6010\n",
            "Epoch 76/1000\n",
            "63/65 [============================>.] - ETA: 0s - loss: 1.7286 - accuracy: 0.3951\n",
            "Epoch 76: saving model to model/keypoint_classifier/keypoint_classifier.hdf5\n",
            "65/65 [==============================] - 0s 2ms/step - loss: 1.7288 - accuracy: 0.3948 - val_loss: 1.2671 - val_accuracy: 0.6010\n",
            "Epoch 77/1000\n",
            "39/65 [=================>............] - ETA: 0s - loss: 1.7446 - accuracy: 0.3958\n",
            "Epoch 77: saving model to model/keypoint_classifier/keypoint_classifier.hdf5\n",
            "65/65 [==============================] - 0s 2ms/step - loss: 1.7366 - accuracy: 0.3963 - val_loss: 1.2583 - val_accuracy: 0.6137\n",
            "Epoch 78/1000\n",
            "57/65 [=========================>....] - ETA: 0s - loss: 1.7464 - accuracy: 0.3969\n",
            "Epoch 78: saving model to model/keypoint_classifier/keypoint_classifier.hdf5\n",
            "65/65 [==============================] - 0s 3ms/step - loss: 1.7426 - accuracy: 0.3994 - val_loss: 1.2843 - val_accuracy: 0.5887\n",
            "Epoch 79/1000\n",
            "37/65 [================>.............] - ETA: 0s - loss: 1.7301 - accuracy: 0.4035\n",
            "Epoch 79: saving model to model/keypoint_classifier/keypoint_classifier.hdf5\n",
            "65/65 [==============================] - 0s 2ms/step - loss: 1.7406 - accuracy: 0.3924 - val_loss: 1.2730 - val_accuracy: 0.6057\n",
            "Epoch 80/1000\n",
            "38/65 [================>.............] - ETA: 0s - loss: 1.7379 - accuracy: 0.3970\n",
            "Epoch 80: saving model to model/keypoint_classifier/keypoint_classifier.hdf5\n",
            "65/65 [==============================] - 0s 2ms/step - loss: 1.7288 - accuracy: 0.3960 - val_loss: 1.2658 - val_accuracy: 0.5981\n",
            "Epoch 81/1000\n",
            "57/65 [=========================>....] - ETA: 0s - loss: 1.7278 - accuracy: 0.3962\n",
            "Epoch 81: saving model to model/keypoint_classifier/keypoint_classifier.hdf5\n",
            "65/65 [==============================] - 0s 3ms/step - loss: 1.7270 - accuracy: 0.3967 - val_loss: 1.2731 - val_accuracy: 0.6054\n",
            "Epoch 82/1000\n",
            "37/65 [================>.............] - ETA: 0s - loss: 1.7355 - accuracy: 0.3896\n",
            "Epoch 82: saving model to model/keypoint_classifier/keypoint_classifier.hdf5\n",
            "65/65 [==============================] - 0s 2ms/step - loss: 1.7255 - accuracy: 0.3966 - val_loss: 1.2515 - val_accuracy: 0.6166\n",
            "Epoch 83/1000\n",
            "53/65 [=======================>......] - ETA: 0s - loss: 1.7107 - accuracy: 0.4026\n",
            "Epoch 83: saving model to model/keypoint_classifier/keypoint_classifier.hdf5\n",
            "65/65 [==============================] - 0s 3ms/step - loss: 1.7176 - accuracy: 0.3979 - val_loss: 1.2571 - val_accuracy: 0.6010\n",
            "Epoch 84/1000\n",
            "62/65 [===========================>..] - ETA: 0s - loss: 1.7098 - accuracy: 0.3989\n",
            "Epoch 84: saving model to model/keypoint_classifier/keypoint_classifier.hdf5\n",
            "65/65 [==============================] - 0s 3ms/step - loss: 1.7084 - accuracy: 0.4000 - val_loss: 1.2507 - val_accuracy: 0.6097\n",
            "Epoch 85/1000\n",
            "36/65 [===============>..............] - ETA: 0s - loss: 1.6930 - accuracy: 0.4041\n",
            "Epoch 85: saving model to model/keypoint_classifier/keypoint_classifier.hdf5\n",
            "65/65 [==============================] - 0s 2ms/step - loss: 1.6913 - accuracy: 0.4079 - val_loss: 1.2547 - val_accuracy: 0.5988\n",
            "Epoch 86/1000\n",
            "51/65 [======================>.......] - ETA: 0s - loss: 1.7132 - accuracy: 0.4061\n",
            "Epoch 86: saving model to model/keypoint_classifier/keypoint_classifier.hdf5\n",
            "65/65 [==============================] - 0s 3ms/step - loss: 1.7159 - accuracy: 0.4034 - val_loss: 1.2424 - val_accuracy: 0.6170\n",
            "Epoch 87/1000\n",
            "37/65 [================>.............] - ETA: 0s - loss: 1.7187 - accuracy: 0.4039\n",
            "Epoch 87: saving model to model/keypoint_classifier/keypoint_classifier.hdf5\n",
            "65/65 [==============================] - 0s 2ms/step - loss: 1.7107 - accuracy: 0.4109 - val_loss: 1.2541 - val_accuracy: 0.6025\n",
            "Epoch 88/1000\n",
            "36/65 [===============>..............] - ETA: 0s - loss: 1.7224 - accuracy: 0.3937\n",
            "Epoch 88: saving model to model/keypoint_classifier/keypoint_classifier.hdf5\n",
            "65/65 [==============================] - 0s 2ms/step - loss: 1.6943 - accuracy: 0.4097 - val_loss: 1.2562 - val_accuracy: 0.5934\n",
            "Epoch 89/1000\n",
            "53/65 [=======================>......] - ETA: 0s - loss: 1.7168 - accuracy: 0.3986\n",
            "Epoch 89: saving model to model/keypoint_classifier/keypoint_classifier.hdf5\n",
            "65/65 [==============================] - 0s 3ms/step - loss: 1.7084 - accuracy: 0.4002 - val_loss: 1.2644 - val_accuracy: 0.5941\n",
            "Epoch 90/1000\n",
            "32/65 [=============>................] - ETA: 0s - loss: 1.6829 - accuracy: 0.4199\n",
            "Epoch 90: saving model to model/keypoint_classifier/keypoint_classifier.hdf5\n",
            "65/65 [==============================] - 0s 2ms/step - loss: 1.6939 - accuracy: 0.4138 - val_loss: 1.2551 - val_accuracy: 0.5934\n",
            "Epoch 91/1000\n",
            "31/65 [=============>................] - ETA: 0s - loss: 1.6624 - accuracy: 0.4294\n",
            "Epoch 91: saving model to model/keypoint_classifier/keypoint_classifier.hdf5\n",
            "65/65 [==============================] - 0s 2ms/step - loss: 1.6976 - accuracy: 0.4085 - val_loss: 1.2617 - val_accuracy: 0.6039\n",
            "Epoch 92/1000\n",
            "65/65 [==============================] - ETA: 0s - loss: 1.6886 - accuracy: 0.4146\n",
            "Epoch 92: saving model to model/keypoint_classifier/keypoint_classifier.hdf5\n",
            "65/65 [==============================] - 0s 2ms/step - loss: 1.6886 - accuracy: 0.4146 - val_loss: 1.2610 - val_accuracy: 0.5959\n",
            "Epoch 93/1000\n",
            "40/65 [=================>............] - ETA: 0s - loss: 1.7005 - accuracy: 0.4080\n",
            "Epoch 93: saving model to model/keypoint_classifier/keypoint_classifier.hdf5\n",
            "65/65 [==============================] - 0s 2ms/step - loss: 1.6995 - accuracy: 0.4100 - val_loss: 1.2663 - val_accuracy: 0.5745\n",
            "Epoch 94/1000\n",
            "60/65 [==========================>...] - ETA: 0s - loss: 1.6676 - accuracy: 0.4184\n",
            "Epoch 94: saving model to model/keypoint_classifier/keypoint_classifier.hdf5\n",
            "65/65 [==============================] - 0s 3ms/step - loss: 1.6707 - accuracy: 0.4181 - val_loss: 1.2538 - val_accuracy: 0.6086\n",
            "Epoch 95/1000\n",
            "39/65 [=================>............] - ETA: 0s - loss: 1.6637 - accuracy: 0.4159\n",
            "Epoch 95: saving model to model/keypoint_classifier/keypoint_classifier.hdf5\n",
            "65/65 [==============================] - 0s 2ms/step - loss: 1.6748 - accuracy: 0.4105 - val_loss: 1.2443 - val_accuracy: 0.6050\n",
            "Epoch 96/1000\n",
            "35/65 [===============>..............] - ETA: 0s - loss: 1.6631 - accuracy: 0.4219\n",
            "Epoch 96: saving model to model/keypoint_classifier/keypoint_classifier.hdf5\n",
            "65/65 [==============================] - 0s 2ms/step - loss: 1.6747 - accuracy: 0.4155 - val_loss: 1.2626 - val_accuracy: 0.5978\n",
            "Epoch 97/1000\n",
            "62/65 [===========================>..] - ETA: 0s - loss: 1.6676 - accuracy: 0.4133\n",
            "Epoch 97: saving model to model/keypoint_classifier/keypoint_classifier.hdf5\n",
            "65/65 [==============================] - 0s 4ms/step - loss: 1.6612 - accuracy: 0.4156 - val_loss: 1.2327 - val_accuracy: 0.6086\n",
            "Epoch 98/1000\n",
            "56/65 [========================>.....] - ETA: 0s - loss: 1.6624 - accuracy: 0.4195\n",
            "Epoch 98: saving model to model/keypoint_classifier/keypoint_classifier.hdf5\n",
            "65/65 [==============================] - 0s 3ms/step - loss: 1.6628 - accuracy: 0.4189 - val_loss: 1.2579 - val_accuracy: 0.5901\n",
            "Epoch 99/1000\n",
            "65/65 [==============================] - ETA: 0s - loss: 1.6629 - accuracy: 0.4152\n",
            "Epoch 99: saving model to model/keypoint_classifier/keypoint_classifier.hdf5\n",
            "65/65 [==============================] - 0s 3ms/step - loss: 1.6629 - accuracy: 0.4152 - val_loss: 1.2574 - val_accuracy: 0.5934\n",
            "Epoch 100/1000\n",
            "35/65 [===============>..............] - ETA: 0s - loss: 1.6486 - accuracy: 0.4279\n",
            "Epoch 100: saving model to model/keypoint_classifier/keypoint_classifier.hdf5\n",
            "65/65 [==============================] - 0s 2ms/step - loss: 1.6530 - accuracy: 0.4247 - val_loss: 1.2536 - val_accuracy: 0.5967\n",
            "Epoch 101/1000\n",
            "53/65 [=======================>......] - ETA: 0s - loss: 1.6835 - accuracy: 0.4138\n",
            "Epoch 101: saving model to model/keypoint_classifier/keypoint_classifier.hdf5\n",
            "65/65 [==============================] - 0s 3ms/step - loss: 1.6811 - accuracy: 0.4144 - val_loss: 1.2381 - val_accuracy: 0.5858\n",
            "Epoch 102/1000\n",
            "39/65 [=================>............] - ETA: 0s - loss: 1.6575 - accuracy: 0.4249\n",
            "Epoch 102: saving model to model/keypoint_classifier/keypoint_classifier.hdf5\n",
            "65/65 [==============================] - 0s 2ms/step - loss: 1.6665 - accuracy: 0.4227 - val_loss: 1.2530 - val_accuracy: 0.5974\n",
            "Epoch 103/1000\n",
            "49/65 [=====================>........] - ETA: 0s - loss: 1.6753 - accuracy: 0.4228\n",
            "Epoch 103: saving model to model/keypoint_classifier/keypoint_classifier.hdf5\n",
            "65/65 [==============================] - 0s 3ms/step - loss: 1.6647 - accuracy: 0.4213 - val_loss: 1.2553 - val_accuracy: 0.6032\n",
            "Epoch 104/1000\n",
            "56/65 [========================>.....] - ETA: 0s - loss: 1.6652 - accuracy: 0.4194\n",
            "Epoch 104: saving model to model/keypoint_classifier/keypoint_classifier.hdf5\n",
            "65/65 [==============================] - 0s 3ms/step - loss: 1.6637 - accuracy: 0.4183 - val_loss: 1.2429 - val_accuracy: 0.5945\n",
            "Epoch 105/1000\n",
            "36/65 [===============>..............] - ETA: 0s - loss: 1.6525 - accuracy: 0.4154\n",
            "Epoch 105: saving model to model/keypoint_classifier/keypoint_classifier.hdf5\n",
            "65/65 [==============================] - 0s 2ms/step - loss: 1.6613 - accuracy: 0.4184 - val_loss: 1.2629 - val_accuracy: 0.5753\n",
            "Epoch 106/1000\n",
            "54/65 [=======================>......] - ETA: 0s - loss: 1.6532 - accuracy: 0.4220\n",
            "Epoch 106: saving model to model/keypoint_classifier/keypoint_classifier.hdf5\n",
            "65/65 [==============================] - 0s 3ms/step - loss: 1.6531 - accuracy: 0.4214 - val_loss: 1.2475 - val_accuracy: 0.5883\n",
            "Epoch 107/1000\n",
            "38/65 [================>.............] - ETA: 0s - loss: 1.6638 - accuracy: 0.4268\n",
            "Epoch 107: saving model to model/keypoint_classifier/keypoint_classifier.hdf5\n",
            "65/65 [==============================] - 0s 3ms/step - loss: 1.6551 - accuracy: 0.4244 - val_loss: 1.2536 - val_accuracy: 0.5731\n",
            "Epoch 108/1000\n",
            "35/65 [===============>..............] - ETA: 0s - loss: 1.6593 - accuracy: 0.4266\n",
            "Epoch 108: saving model to model/keypoint_classifier/keypoint_classifier.hdf5\n",
            "65/65 [==============================] - 0s 2ms/step - loss: 1.6597 - accuracy: 0.4210 - val_loss: 1.2392 - val_accuracy: 0.5956\n",
            "Epoch 109/1000\n",
            "61/65 [===========================>..] - ETA: 0s - loss: 1.6469 - accuracy: 0.4232\n",
            "Epoch 109: saving model to model/keypoint_classifier/keypoint_classifier.hdf5\n",
            "65/65 [==============================] - 0s 3ms/step - loss: 1.6471 - accuracy: 0.4232 - val_loss: 1.2525 - val_accuracy: 0.5883\n",
            "Epoch 110/1000\n",
            "36/65 [===============>..............] - ETA: 0s - loss: 1.6741 - accuracy: 0.4243\n",
            "Epoch 110: saving model to model/keypoint_classifier/keypoint_classifier.hdf5\n",
            "65/65 [==============================] - 0s 3ms/step - loss: 1.6521 - accuracy: 0.4279 - val_loss: 1.2373 - val_accuracy: 0.5941\n",
            "Epoch 111/1000\n",
            "62/65 [===========================>..] - ETA: 0s - loss: 1.6493 - accuracy: 0.4289\n",
            "Epoch 111: saving model to model/keypoint_classifier/keypoint_classifier.hdf5\n",
            "65/65 [==============================] - 0s 7ms/step - loss: 1.6517 - accuracy: 0.4279 - val_loss: 1.2376 - val_accuracy: 0.5861\n",
            "Epoch 112/1000\n",
            "50/65 [======================>.......] - ETA: 0s - loss: 1.6428 - accuracy: 0.4264\n",
            "Epoch 112: saving model to model/keypoint_classifier/keypoint_classifier.hdf5\n",
            "65/65 [==============================] - 0s 6ms/step - loss: 1.6494 - accuracy: 0.4232 - val_loss: 1.2505 - val_accuracy: 0.5887\n",
            "Epoch 113/1000\n",
            "39/65 [=================>............] - ETA: 0s - loss: 1.6384 - accuracy: 0.4271\n",
            "Epoch 113: saving model to model/keypoint_classifier/keypoint_classifier.hdf5\n",
            "65/65 [==============================] - 0s 3ms/step - loss: 1.6543 - accuracy: 0.4239 - val_loss: 1.2462 - val_accuracy: 0.5916\n",
            "Epoch 114/1000\n",
            "54/65 [=======================>......] - ETA: 0s - loss: 1.6643 - accuracy: 0.4161\n",
            "Epoch 114: saving model to model/keypoint_classifier/keypoint_classifier.hdf5\n",
            "65/65 [==============================] - 0s 3ms/step - loss: 1.6583 - accuracy: 0.4170 - val_loss: 1.2503 - val_accuracy: 0.5890\n",
            "Epoch 115/1000\n",
            "31/65 [=============>................] - ETA: 0s - loss: 1.6833 - accuracy: 0.4128\n",
            "Epoch 115: saving model to model/keypoint_classifier/keypoint_classifier.hdf5\n",
            "65/65 [==============================] - 0s 2ms/step - loss: 1.6553 - accuracy: 0.4216 - val_loss: 1.2487 - val_accuracy: 0.5800\n",
            "Epoch 116/1000\n",
            "49/65 [=====================>........] - ETA: 0s - loss: 1.6404 - accuracy: 0.4303\n",
            "Epoch 116: saving model to model/keypoint_classifier/keypoint_classifier.hdf5\n",
            "65/65 [==============================] - 0s 3ms/step - loss: 1.6361 - accuracy: 0.4305 - val_loss: 1.2356 - val_accuracy: 0.5901\n",
            "Epoch 117/1000\n",
            "63/65 [============================>.] - ETA: 0s - loss: 1.6497 - accuracy: 0.4198\n",
            "Epoch 117: saving model to model/keypoint_classifier/keypoint_classifier.hdf5\n",
            "65/65 [==============================] - 0s 3ms/step - loss: 1.6510 - accuracy: 0.4200 - val_loss: 1.2670 - val_accuracy: 0.5909\n",
            "Epoch 117: early stopping\n"
          ]
        },
        {
          "data": {
            "text/plain": [
              "<keras.callbacks.History at 0x7f8d87537d60>"
            ]
          },
          "execution_count": 11,
          "metadata": {},
          "output_type": "execute_result"
        }
      ],
      "source": [
        "model.fit(\n",
        "    X_train,\n",
        "    y_train,\n",
        "    epochs=1000,\n",
        "    batch_size=128,\n",
        "    validation_data=(X_test, y_test),\n",
        "    callbacks=[cp_callback, es_callback]\n",
        ")"
      ]
    },
    {
      "cell_type": "code",
      "execution_count": 12,
      "metadata": {
        "colab": {
          "base_uri": "https://localhost:8080/"
        },
        "id": "pxvb2Y299hE3",
        "outputId": "59eb3185-2e37-4b9e-bc9d-ab1b8ac29b7f"
      },
      "outputs": [
        {
          "name": "stdout",
          "output_type": "stream",
          "text": [
            "22/22 [==============================] - 0s 983us/step - loss: 1.2670 - accuracy: 0.5909\n"
          ]
        }
      ],
      "source": [
        "# Model evaluation\n",
        "val_loss, val_acc = model.evaluate(X_test, y_test, batch_size=128)"
      ]
    },
    {
      "cell_type": "code",
      "execution_count": 13,
      "metadata": {
        "id": "RBkmDeUW9hE4"
      },
      "outputs": [],
      "source": [
        "# Loading the saved model\n",
        "model = tf.keras.models.load_model(model_save_path)"
      ]
    },
    {
      "cell_type": "code",
      "execution_count": 14,
      "metadata": {
        "colab": {
          "base_uri": "https://localhost:8080/"
        },
        "id": "tFz9Tb0I9hE4",
        "outputId": "1c3b3528-54ae-4ee2-ab04-77429211cbef"
      },
      "outputs": [
        {
          "name": "stdout",
          "output_type": "stream",
          "text": [
            "1/1 [==============================] - 0s 96ms/step\n",
            "[6.7151082e-03 2.2403160e-02 3.7520165e-03 3.7911437e-02 1.2550379e-02\n",
            " 1.4683558e-02 6.5022025e-05 1.4593752e-04 2.1876542e-04 1.8589689e-01\n",
            " 1.7513338e-02 5.1100538e-03 1.3274085e-02 1.7654123e-03 7.5377570e-06\n",
            " 3.3474778e-05 1.8494587e-01 9.7111519e-03 7.3490031e-03 1.4739689e-01\n",
            " 2.8202710e-01 4.4978678e-02 7.7732647e-04 7.6787843e-04]\n",
            "20\n"
          ]
        }
      ],
      "source": [
        "# Inference test\n",
        "predict_result = model.predict(np.array([X_test[0]]))\n",
        "print(np.squeeze(predict_result))\n",
        "print(np.argmax(np.squeeze(predict_result)))"
      ]
    },
    {
      "cell_type": "markdown",
      "metadata": {
        "id": "S3U4yNWx9hE4"
      },
      "source": [
        "# Confusion matrix"
      ]
    },
    {
      "cell_type": "code",
      "execution_count": 15,
      "metadata": {
        "colab": {
          "base_uri": "https://localhost:8080/",
          "height": 582
        },
        "id": "AP1V6SCk9hE5",
        "outputId": "08e41a80-7a4a-4619-8125-ecc371368d19"
      },
      "outputs": [
        {
          "name": "stdout",
          "output_type": "stream",
          "text": [
            "87/87 [==============================] - 0s 1ms/step\n"
          ]
        },
        {
          "data": {
            "image/png": "[encoded data removed]",
            "text/plain": [
              "<Figure size 504x432 with 2 Axes>"
            ]
          },
          "metadata": {
            "needs_background": "light"
          },
          "output_type": "display_data"
        },
        {
          "name": "stdout",
          "output_type": "stream",
          "text": [
            "Classification Report\n",
            "              precision    recall  f1-score   support\n",
            "\n",
            "           0       0.96      0.38      0.55       136\n",
            "           1       0.68      0.96      0.79       138\n",
            "           2       0.84      0.44      0.58       115\n",
            "           3       0.50      0.99      0.66       117\n",
            "           4       0.89      0.09      0.16        88\n",
            "           5       1.00      0.28      0.43        90\n",
            "           6       0.59      1.00      0.74       113\n",
            "           7       0.00      0.00      0.00        79\n",
            "           8       0.86      0.55      0.67        66\n",
            "           9       0.14      0.02      0.04       139\n",
            "          10       0.68      0.94      0.79       121\n",
            "          11       0.95      0.44      0.60       197\n",
            "          12       0.51      0.86      0.64       214\n",
            "          13       0.71      0.59      0.65        54\n",
            "          14       0.75      1.00      0.86        64\n",
            "          15       0.93      0.81      0.87        70\n",
            "          16       0.79      0.13      0.22        87\n",
            "          17       0.54      0.85      0.66       229\n",
            "          18       0.00      0.00      0.00       109\n",
            "          19       0.36      0.73      0.49       137\n",
            "          20       0.45      0.66      0.53       167\n",
            "          21       0.74      0.38      0.50        73\n",
            "          22       0.00      0.00      0.00        34\n",
            "          23       0.68      0.94      0.79       120\n",
            "\n",
            "    accuracy                           0.59      2757\n",
            "   macro avg       0.61      0.54      0.51      2757\n",
            "weighted avg       0.61      0.59      0.53      2757\n",
            "\n"
          ]
        },
        {
          "name": "stderr",
          "output_type": "stream",
          "text": [
            "/Library/Frameworks/Python.framework/Versions/3.8/lib/python3.8/site-packages/sklearn/metrics/_classification.py:1334: UndefinedMetricWarning: Precision and F-score are ill-defined and being set to 0.0 in labels with no predicted samples. Use `zero_division` parameter to control this behavior.\n",
            "  _warn_prf(average, modifier, msg_start, len(result))\n",
            "/Library/Frameworks/Python.framework/Versions/3.8/lib/python3.8/site-packages/sklearn/metrics/_classification.py:1334: UndefinedMetricWarning: Precision and F-score are ill-defined and being set to 0.0 in labels with no predicted samples. Use `zero_division` parameter to control this behavior.\n",
            "  _warn_prf(average, modifier, msg_start, len(result))\n",
            "/Library/Frameworks/Python.framework/Versions/3.8/lib/python3.8/site-packages/sklearn/metrics/_classification.py:1334: UndefinedMetricWarning: Precision and F-score are ill-defined and being set to 0.0 in labels with no predicted samples. Use `zero_division` parameter to control this behavior.\n",
            "  _warn_prf(average, modifier, msg_start, len(result))\n"
          ]
        }
      ],
      "source": [
        "import pandas as pd\n",
        "import seaborn as sns\n",
        "import matplotlib.pyplot as plt\n",
        "from sklearn.metrics import confusion_matrix, classification_report\n",
        "\n",
        "def print_confusion_matrix(y_true, y_pred, report=True):\n",
        "    labels = sorted(list(set(y_true)))\n",
        "    cmx_data = confusion_matrix(y_true, y_pred, labels=labels)\n",
        "    \n",
        "    df_cmx = pd.DataFrame(cmx_data, index=labels, columns=labels)\n",
        " \n",
        "    fig, ax = plt.subplots(figsize=(7, 6))\n",
        "    sns.heatmap(df_cmx, annot=True, fmt='g' ,square=False)\n",
        "    ax.set_ylim(len(set(y_true)), 0)\n",
        "    plt.show()\n",
        "    \n",
        "    if report:\n",
        "        print('Classification Report')\n",
        "        print(classification_report(y_test, y_pred))\n",
        "\n",
        "Y_pred = model.predict(X_test)\n",
        "y_pred = np.argmax(Y_pred, axis=1)\n",
        "\n",
        "print_confusion_matrix(y_test, y_pred)"
      ]
    },
    {
      "cell_type": "markdown",
      "metadata": {
        "id": "FNP6aqzc9hE5"
      },
      "source": [
        "# Convert to model for Tensorflow-Lite"
      ]
    },
    {
      "cell_type": "code",
      "execution_count": 16,
      "metadata": {
        "id": "ODjnYyld9hE6"
      },
      "outputs": [],
      "source": [
        "# Save as a model dedicated to inference\n",
        "model.save(model_save_path, include_optimizer=False)"
      ]
    },
    {
      "cell_type": "code",
      "execution_count": 17,
      "metadata": {
        "colab": {
          "base_uri": "https://localhost:8080/"
        },
        "id": "zRfuK8Y59hE6",
        "outputId": "a4ca585c-b5d5-4244-8291-8674063209bb"
      },
      "outputs": [
        {
          "name": "stdout",
          "output_type": "stream",
          "text": [
            "INFO:tensorflow:Assets written to: /var/folders/g7/z_b90041623_90_9qd8xq9l80000gn/T/tmpql6kwun3/assets\n"
          ]
        },
        {
          "name": "stderr",
          "output_type": "stream",
          "text": [
            "2022-09-21 21:36:24.282629: W tensorflow/compiler/mlir/lite/python/tf_tfl_flatbuffer_helpers.cc:362] Ignored output_format.\n",
            "2022-09-21 21:36:24.282663: W tensorflow/compiler/mlir/lite/python/tf_tfl_flatbuffer_helpers.cc:365] Ignored drop_control_dependency.\n",
            "2022-09-21 21:36:24.292575: I tensorflow/cc/saved_model/reader.cc:43] Reading SavedModel from: /var/folders/g7/z_b90041623_90_9qd8xq9l80000gn/T/tmpql6kwun3\n",
            "2022-09-21 21:36:24.306231: I tensorflow/cc/saved_model/reader.cc:81] Reading meta graph with tags { serve }\n",
            "2022-09-21 21:36:24.306268: I tensorflow/cc/saved_model/reader.cc:122] Reading SavedModel debug info (if present) from: /var/folders/g7/z_b90041623_90_9qd8xq9l80000gn/T/tmpql6kwun3\n",
            "2022-09-21 21:36:24.315795: I tensorflow/compiler/mlir/mlir_graph_optimization_pass.cc:354] MLIR V1 optimization pass is not enabled\n",
            "2022-09-21 21:36:24.317833: I tensorflow/cc/saved_model/loader.cc:228] Restoring SavedModel bundle.\n",
            "2022-09-21 21:36:24.399857: I tensorflow/cc/saved_model/loader.cc:212] Running initialization op on SavedModel bundle at path: /var/folders/g7/z_b90041623_90_9qd8xq9l80000gn/T/tmpql6kwun3\n",
            "2022-09-21 21:36:24.419115: I tensorflow/cc/saved_model/loader.cc:301] SavedModel load for tags { serve }; Status: success: OK. Took 127163 microseconds.\n",
            "2022-09-21 21:36:24.504178: I tensorflow/compiler/mlir/tensorflow/utils/dump_mlir_util.cc:263] disabling MLIR crash reproducer, set env var `MLIR_CRASH_REPRODUCER_DIRECTORY` to enable.\n"
          ]
        },
        {
          "data": {
            "text/plain": [
              "7368"
            ]
          },
          "execution_count": 17,
          "metadata": {},
          "output_type": "execute_result"
        }
      ],
      "source": [
        "# Transform model (quantization)\n",
        "\n",
        "converter = tf.lite.TFLiteConverter.from_keras_model(model)\n",
        "converter.optimizations = [tf.lite.Optimize.DEFAULT]\n",
        "tflite_quantized_model = converter.convert()\n",
        "\n",
        "open(tflite_save_path, 'wb').write(tflite_quantized_model)"
      ]
    },
    {
      "cell_type": "markdown",
      "metadata": {
        "id": "CHBPBXdx9hE6"
      },
      "source": [
        "# Inference test"
      ]
    },
    {
      "cell_type": "code",
      "execution_count": 18,
      "metadata": {
        "id": "mGAzLocO9hE7"
      },
      "outputs": [],
      "source": [
        "interpreter = tf.lite.Interpreter(model_path=tflite_save_path)\n",
        "interpreter.allocate_tensors()"
      ]
    },
    {
      "cell_type": "code",
      "execution_count": 19,
      "metadata": {
        "id": "oQuDK8YS9hE7"
      },
      "outputs": [],
      "source": [
        "# Get I / O tensor\n",
        "input_details = interpreter.get_input_details()\n",
        "output_details = interpreter.get_output_details()"
      ]
    },
    {
      "cell_type": "code",
      "execution_count": 20,
      "metadata": {
        "id": "2_ixAf_l9hE7"
      },
      "outputs": [],
      "source": [
        "interpreter.set_tensor(input_details[0]['index'], np.array([X_test[0]]))"
      ]
    },
    {
      "cell_type": "code",
      "execution_count": 21,
      "metadata": {
        "colab": {
          "base_uri": "https://localhost:8080/"
        },
        "id": "s4FoAnuc9hE7",
        "outputId": "91f18257-8d8b-4ef3-c558-e9b5f94fabbf",
        "scrolled": true
      },
      "outputs": [
        {
          "name": "stdout",
          "output_type": "stream",
          "text": [
            "CPU times: user 1.11 ms, sys: 1.56 ms, total: 2.66 ms\n",
            "Wall time: 2.4 ms\n"
          ]
        }
      ],
      "source": [
        "%%time\n",
        "# Inference implementation\n",
        "interpreter.invoke()\n",
        "tflite_results = interpreter.get_tensor(output_details[0]['index'])"
      ]
    },
    {
      "cell_type": "code",
      "execution_count": 22,
      "metadata": {
        "colab": {
          "base_uri": "https://localhost:8080/"
        },
        "id": "vONjp19J9hE8",
        "outputId": "77205e24-fd00-42c4-f7b6-e06e527c2cba"
      },
      "outputs": [
        {
          "name": "stdout",
          "output_type": "stream",
          "text": [
            "[6.7151110e-03 2.2403143e-02 3.7520127e-03 3.7911408e-02 1.2550371e-02\n",
            " 1.4683543e-02 6.5022025e-05 1.4593752e-04 2.1876564e-04 1.8589693e-01\n",
            " 1.7513355e-02 5.1100515e-03 1.3274085e-02 1.7654123e-03 7.5377570e-06\n",
            " 3.3474746e-05 1.8494578e-01 9.7111575e-03 7.3490064e-03 1.4739694e-01\n",
            " 2.8202710e-01 4.4978675e-02 7.7732722e-04 7.6787919e-04]\n",
            "20\n"
          ]
        }
      ],
      "source": [
        "print(np.squeeze(tflite_results))\n",
        "print(np.argmax(np.squeeze(tflite_results)))"
      ]
    }
  ],
  "metadata": {
    "accelerator": "GPU",
    "colab": {
      "collapsed_sections": [],
      "name": "keypoint_classification_EN.ipynb",
      "provenance": [],
      "toc_visible": true
    },
    "kernelspec": {
      "display_name": "Python 3.8.6 64-bit",
      "language": "python",
      "name": "python3"
    },
    "language_info": {
      "codemirror_mode": {
        "name": "ipython",
        "version": 3
      },
      "file_extension": ".py",
      "mimetype": "text/x-python",
      "name": "python",
      "nbconvert_exporter": "python",
      "pygments_lexer": "ipython3",
      "version": "3.8.6"
    },
    "vscode": {
      "interpreter": {
        "hash": "aee8b7b246df8f9039afb4144a1f6fd8d2ca17a180786b69acc140d282b71a49"
      }
    }
  },
  "nbformat": 4,
  "nbformat_minor": 0
}
