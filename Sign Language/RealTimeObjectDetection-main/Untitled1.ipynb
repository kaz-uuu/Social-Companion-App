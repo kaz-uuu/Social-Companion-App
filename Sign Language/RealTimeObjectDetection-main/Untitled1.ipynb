{
 "cells": [
  {
   "cell_type": "code",
   "execution_count": 2,
   "metadata": {},
   "outputs": [],
   "source": [
    "import cv2 #opencv\n",
    "import os #file paths\n",
    "import time #shi jian\n",
    "import uuid #rename image files"
   ]
  },
  {
   "cell_type": "code",
   "execution_count": 3,
   "metadata": {},
   "outputs": [],
   "source": [
    "IMAGES_PATH = 'Tensorflow/workspace/images/collectedimages'"
   ]
  },
  {
   "cell_type": "code",
   "execution_count": 10,
   "metadata": {},
   "outputs": [],
   "source": [
    "labels = [\"hello\", \"thanks\", \"yes\", \"no\", \"iloveyou\"]\n",
    "number_imgs = 15"
   ]
  },
  {
   "cell_type": "code",
   "execution_count": 21,
   "metadata": {},
   "outputs": [
    {
     "name": "stdout",
     "output_type": "stream",
     "text": [
      "mkdir: Tensorflow/workspace/images/collectedimages/hello: File exists\n",
      "Collecting images for hello\n",
      "mkdir: Tensorflow/workspace/images/collectedimages/thanks: File exists\n",
      "Collecting images for thanks\n",
      "mkdir: Tensorflow/workspace/images/collectedimages/yes: File exists\n",
      "Collecting images for yes\n",
      "mkdir: Tensorflow/workspace/images/collectedimages/no: File exists\n",
      "Collecting images for no\n",
      "mkdir: Tensorflow/workspace/images/collectedimages/iloveyou: File exists\n",
      "Collecting images for iloveyou\n"
     ]
    }
   ],
   "source": [
    "for label in labels:\n",
    "    !mkdir {IMAGES_PATH+\"/\"+label}\n",
    "    cap = cv2.VideoCapture(0)\n",
    "    print('Collecting images for {}'.format(label))\n",
    "    time.sleep(3)\n",
    "    if cap.isOpened():\n",
    "        for imgnum in range(number_imgs):\n",
    "            ret,frame = cap.read()\n",
    "            if ret:\n",
    "                imgname = os.path.join(IMAGES_PATH, label, label+'.'+'{}.jpg'.format(str(uuid.uuid1())))\n",
    "                cv2.imwrite(imgname,frame)\n",
    "                cv2.imshow('frame',frame)\n",
    "                time.sleep(1)\n",
    "\n",
    "            if cv2.waitKey(1) & 0xFF == ord('q'):\n",
    "                break\n",
    "        cap.release()\n",
    "    cv2.destroyAllWindows()\n",
    "        "
   ]
  },
  {
   "cell_type": "code",
   "execution_count": null,
   "metadata": {},
   "outputs": [],
   "source": []
  }
 ],
 "metadata": {
  "kernelspec": {
   "display_name": "Python 3 (ipykernel)",
   "language": "python",
   "name": "python3"
  },
  "language_info": {
   "codemirror_mode": {
    "name": "ipython",
    "version": 3
   },
   "file_extension": ".py",
   "mimetype": "text/x-python",
   "name": "python",
   "nbconvert_exporter": "python",
   "pygments_lexer": "ipython3",
   "version": "3.8.5"
  }
 },
 "nbformat": 4,
 "nbformat_minor": 2
}
